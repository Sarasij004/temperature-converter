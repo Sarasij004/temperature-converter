{
  "nbformat": 4,
  "nbformat_minor": 0,
  "metadata": {
    "colab": {
      "provenance": []
    },
    "kernelspec": {
      "name": "python3",
      "display_name": "Python 3"
    },
    "language_info": {
      "name": "python"
    }
  },
  "cells": [
    {
      "cell_type": "code",
      "execution_count": 2,
      "metadata": {
        "colab": {
          "base_uri": "https://localhost:8080/"
        },
        "id": "VBdo5HHjNS6s",
        "outputId": "8d3f6ca5-378d-4d37-b290-d7f6463ea917"
      },
      "outputs": [
        {
          "output_type": "stream",
          "name": "stdout",
          "text": [
            "🌡️ Temperature Converter 🌡️\n",
            "Choose the input scale:\n",
            "1. Celsius (°C)\n",
            "2. Fahrenheit (°F)\n",
            "3. Kelvin (K)\n",
            "Enter choice (1/2/3): 1\n",
            "Enter the temperature value: 30\n",
            "30.00 °C = 86.00 °F = 303.15 K\n"
          ]
        }
      ],
      "source": [
        "def convert_temperature():\n",
        "    print(\"🌡️ Temperature Converter 🌡️\")\n",
        "    print(\"Choose the input scale:\")\n",
        "    print(\"1. Celsius (°C)\")\n",
        "    print(\"2. Fahrenheit (°F)\")\n",
        "    print(\"3. Kelvin (K)\")\n",
        "\n",
        "    choice = input(\"Enter choice (1/2/3): \")\n",
        "\n",
        "    try:\n",
        "        temp = float(input(\"Enter the temperature value: \"))\n",
        "    except ValueError:\n",
        "        print(\"⚠️ Invalid input! Please enter a numeric value.\")\n",
        "        return\n",
        "\n",
        "    if choice == '1':  # Celsius\n",
        "        c = temp\n",
        "        f = (c * 9/5) + 32\n",
        "        k = c + 273.15\n",
        "        print(f\"{c:.2f} °C = {f:.2f} °F = {k:.2f} K\")\n",
        "\n",
        "    elif choice == '2':  # Fahrenheit\n",
        "        f = temp\n",
        "        c = (f - 32) * 5/9\n",
        "        k = c + 273.15\n",
        "        print(f\"{f:.2f} °F = {c:.2f} °C = {k:.2f} K\")\n",
        "\n",
        "    elif choice == '3':  # Kelvin\n",
        "        k = temp\n",
        "        c = k - 273.15\n",
        "        f = (c * 9/5) + 32\n",
        "        print(f\"{k:.2f} K = {c:.2f} °C = {f:.2f} °F\")\n",
        "\n",
        "    else:\n",
        "        print(\"⚠️ Invalid choice! Please select 1, 2, or 3.\")\n",
        "\n",
        "convert_temperature()\n"
      ]
    }
  ]
}